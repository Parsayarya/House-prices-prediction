{
  "nbformat": 4,
  "nbformat_minor": 0,
  "metadata": {
    "colab": {
      "name": "house-price-pred0.ipynb",
      "provenance": [],
      "collapsed_sections": [],
      "authorship_tag": "ABX9TyPjlrEAAuyOPvfN0DvfZQMy",
      "include_colab_link": true
    },
    "kernelspec": {
      "name": "python3",
      "display_name": "Python 3"
    },
    "language_info": {
      "name": "python"
    }
  },
  "cells": [
    {
      "cell_type": "markdown",
      "metadata": {
        "id": "view-in-github",
        "colab_type": "text"
      },
      "source": [
        "<a href=\"https://colab.research.google.com/github/Parsayarya/House-prices-prediction/blob/main/house_price_pred0.ipynb\" target=\"_parent\"><img src=\"https://colab.research.google.com/assets/colab-badge.svg\" alt=\"Open In Colab\"/></a>"
      ]
    },
    {
      "cell_type": "code",
      "metadata": {
        "id": "oUVZFfj0AsGX"
      },
      "source": [
        "import pandas as pd\n",
        "import numpy as np"
      ],
      "execution_count": null,
      "outputs": []
    },
    {
      "cell_type": "markdown",
      "metadata": {
        "id": "K5CGspmtdg2O"
      },
      "source": [
        "**Loadind DataSets** and geting a general info"
      ]
    },
    {
      "cell_type": "code",
      "metadata": {
        "id": "GUGyxQOCDF9y"
      },
      "source": [
        "dftr = pd.read_csv ('/content/train.csv')\n",
        "dfte = pd.read_csv ('/content/test.csv')"
      ],
      "execution_count": null,
      "outputs": []
    },
    {
      "cell_type": "code",
      "metadata": {
        "colab": {
          "base_uri": "https://localhost:8080/"
        },
        "id": "CYcUFXJ5bg8A",
        "outputId": "684c1588-05f8-482d-dec5-f6a734eba43f"
      },
      "source": [
        "dftr.info()"
      ],
      "execution_count": null,
      "outputs": [
        {
          "output_type": "stream",
          "name": "stdout",
          "text": [
            "<class 'pandas.core.frame.DataFrame'>\n",
            "RangeIndex: 1460 entries, 0 to 1459\n",
            "Data columns (total 81 columns):\n",
            " #   Column         Non-Null Count  Dtype  \n",
            "---  ------         --------------  -----  \n",
            " 0   Id             1460 non-null   int64  \n",
            " 1   MSSubClass     1460 non-null   int64  \n",
            " 2   MSZoning       1460 non-null   object \n",
            " 3   LotFrontage    1201 non-null   float64\n",
            " 4   LotArea        1460 non-null   int64  \n",
            " 5   Street         1460 non-null   object \n",
            " 6   Alley          91 non-null     object \n",
            " 7   LotShape       1460 non-null   object \n",
            " 8   LandContour    1460 non-null   object \n",
            " 9   Utilities      1460 non-null   object \n",
            " 10  LotConfig      1460 non-null   object \n",
            " 11  LandSlope      1460 non-null   object \n",
            " 12  Neighborhood   1460 non-null   object \n",
            " 13  Condition1     1460 non-null   object \n",
            " 14  Condition2     1460 non-null   object \n",
            " 15  BldgType       1460 non-null   object \n",
            " 16  HouseStyle     1460 non-null   object \n",
            " 17  OverallQual    1460 non-null   int64  \n",
            " 18  OverallCond    1460 non-null   int64  \n",
            " 19  YearBuilt      1460 non-null   int64  \n",
            " 20  YearRemodAdd   1460 non-null   int64  \n",
            " 21  RoofStyle      1460 non-null   object \n",
            " 22  RoofMatl       1460 non-null   object \n",
            " 23  Exterior1st    1460 non-null   object \n",
            " 24  Exterior2nd    1460 non-null   object \n",
            " 25  MasVnrType     1452 non-null   object \n",
            " 26  MasVnrArea     1452 non-null   float64\n",
            " 27  ExterQual      1460 non-null   object \n",
            " 28  ExterCond      1460 non-null   object \n",
            " 29  Foundation     1460 non-null   object \n",
            " 30  BsmtQual       1423 non-null   object \n",
            " 31  BsmtCond       1423 non-null   object \n",
            " 32  BsmtExposure   1422 non-null   object \n",
            " 33  BsmtFinType1   1423 non-null   object \n",
            " 34  BsmtFinSF1     1460 non-null   int64  \n",
            " 35  BsmtFinType2   1422 non-null   object \n",
            " 36  BsmtFinSF2     1460 non-null   int64  \n",
            " 37  BsmtUnfSF      1460 non-null   int64  \n",
            " 38  TotalBsmtSF    1460 non-null   int64  \n",
            " 39  Heating        1460 non-null   object \n",
            " 40  HeatingQC      1460 non-null   object \n",
            " 41  CentralAir     1460 non-null   object \n",
            " 42  Electrical     1459 non-null   object \n",
            " 43  1stFlrSF       1460 non-null   int64  \n",
            " 44  2ndFlrSF       1460 non-null   int64  \n",
            " 45  LowQualFinSF   1460 non-null   int64  \n",
            " 46  GrLivArea      1460 non-null   int64  \n",
            " 47  BsmtFullBath   1460 non-null   int64  \n",
            " 48  BsmtHalfBath   1460 non-null   int64  \n",
            " 49  FullBath       1460 non-null   int64  \n",
            " 50  HalfBath       1460 non-null   int64  \n",
            " 51  BedroomAbvGr   1460 non-null   int64  \n",
            " 52  KitchenAbvGr   1460 non-null   int64  \n",
            " 53  KitchenQual    1460 non-null   object \n",
            " 54  TotRmsAbvGrd   1460 non-null   int64  \n",
            " 55  Functional     1460 non-null   object \n",
            " 56  Fireplaces     1460 non-null   int64  \n",
            " 57  FireplaceQu    770 non-null    object \n",
            " 58  GarageType     1379 non-null   object \n",
            " 59  GarageYrBlt    1379 non-null   float64\n",
            " 60  GarageFinish   1379 non-null   object \n",
            " 61  GarageCars     1460 non-null   int64  \n",
            " 62  GarageArea     1460 non-null   int64  \n",
            " 63  GarageQual     1379 non-null   object \n",
            " 64  GarageCond     1379 non-null   object \n",
            " 65  PavedDrive     1460 non-null   object \n",
            " 66  WoodDeckSF     1460 non-null   int64  \n",
            " 67  OpenPorchSF    1460 non-null   int64  \n",
            " 68  EnclosedPorch  1460 non-null   int64  \n",
            " 69  3SsnPorch      1460 non-null   int64  \n",
            " 70  ScreenPorch    1460 non-null   int64  \n",
            " 71  PoolArea       1460 non-null   int64  \n",
            " 72  PoolQC         7 non-null      object \n",
            " 73  Fence          281 non-null    object \n",
            " 74  MiscFeature    54 non-null     object \n",
            " 75  MiscVal        1460 non-null   int64  \n",
            " 76  MoSold         1460 non-null   int64  \n",
            " 77  YrSold         1460 non-null   int64  \n",
            " 78  SaleType       1460 non-null   object \n",
            " 79  SaleCondition  1460 non-null   object \n",
            " 80  SalePrice      1460 non-null   int64  \n",
            "dtypes: float64(3), int64(35), object(43)\n",
            "memory usage: 924.0+ KB\n"
          ]
        }
      ]
    },
    {
      "cell_type": "code",
      "metadata": {
        "colab": {
          "base_uri": "https://localhost:8080/",
          "height": 315
        },
        "id": "M9EYrpxPbjdg",
        "outputId": "897bb1bc-3c29-4fd8-f779-c040c3ace415"
      },
      "source": [
        "dfte.describe()"
      ],
      "execution_count": null,
      "outputs": [
        {
          "output_type": "execute_result",
          "data": {
            "text/html": [
              "<div>\n",
              "<style scoped>\n",
              "    .dataframe tbody tr th:only-of-type {\n",
              "        vertical-align: middle;\n",
              "    }\n",
              "\n",
              "    .dataframe tbody tr th {\n",
              "        vertical-align: top;\n",
              "    }\n",
              "\n",
              "    .dataframe thead th {\n",
              "        text-align: right;\n",
              "    }\n",
              "</style>\n",
              "<table border=\"1\" class=\"dataframe\">\n",
              "  <thead>\n",
              "    <tr style=\"text-align: right;\">\n",
              "      <th></th>\n",
              "      <th>Id</th>\n",
              "      <th>MSSubClass</th>\n",
              "      <th>LotFrontage</th>\n",
              "      <th>LotArea</th>\n",
              "      <th>OverallQual</th>\n",
              "      <th>OverallCond</th>\n",
              "      <th>YearBuilt</th>\n",
              "      <th>YearRemodAdd</th>\n",
              "      <th>MasVnrArea</th>\n",
              "      <th>BsmtFinSF1</th>\n",
              "      <th>BsmtFinSF2</th>\n",
              "      <th>BsmtUnfSF</th>\n",
              "      <th>TotalBsmtSF</th>\n",
              "      <th>1stFlrSF</th>\n",
              "      <th>2ndFlrSF</th>\n",
              "      <th>LowQualFinSF</th>\n",
              "      <th>GrLivArea</th>\n",
              "      <th>BsmtFullBath</th>\n",
              "      <th>BsmtHalfBath</th>\n",
              "      <th>FullBath</th>\n",
              "      <th>HalfBath</th>\n",
              "      <th>BedroomAbvGr</th>\n",
              "      <th>KitchenAbvGr</th>\n",
              "      <th>TotRmsAbvGrd</th>\n",
              "      <th>Fireplaces</th>\n",
              "      <th>GarageYrBlt</th>\n",
              "      <th>GarageCars</th>\n",
              "      <th>GarageArea</th>\n",
              "      <th>WoodDeckSF</th>\n",
              "      <th>OpenPorchSF</th>\n",
              "      <th>EnclosedPorch</th>\n",
              "      <th>3SsnPorch</th>\n",
              "      <th>ScreenPorch</th>\n",
              "      <th>PoolArea</th>\n",
              "      <th>MiscVal</th>\n",
              "      <th>MoSold</th>\n",
              "      <th>YrSold</th>\n",
              "    </tr>\n",
              "  </thead>\n",
              "  <tbody>\n",
              "    <tr>\n",
              "      <th>count</th>\n",
              "      <td>1459.000000</td>\n",
              "      <td>1459.000000</td>\n",
              "      <td>1232.000000</td>\n",
              "      <td>1459.000000</td>\n",
              "      <td>1459.000000</td>\n",
              "      <td>1459.000000</td>\n",
              "      <td>1459.000000</td>\n",
              "      <td>1459.000000</td>\n",
              "      <td>1444.000000</td>\n",
              "      <td>1458.000000</td>\n",
              "      <td>1458.000000</td>\n",
              "      <td>1458.000000</td>\n",
              "      <td>1458.000000</td>\n",
              "      <td>1459.000000</td>\n",
              "      <td>1459.000000</td>\n",
              "      <td>1459.000000</td>\n",
              "      <td>1459.000000</td>\n",
              "      <td>1457.000000</td>\n",
              "      <td>1457.000000</td>\n",
              "      <td>1459.000000</td>\n",
              "      <td>1459.000000</td>\n",
              "      <td>1459.000000</td>\n",
              "      <td>1459.000000</td>\n",
              "      <td>1459.000000</td>\n",
              "      <td>1459.00000</td>\n",
              "      <td>1381.000000</td>\n",
              "      <td>1458.000000</td>\n",
              "      <td>1458.000000</td>\n",
              "      <td>1459.000000</td>\n",
              "      <td>1459.000000</td>\n",
              "      <td>1459.000000</td>\n",
              "      <td>1459.000000</td>\n",
              "      <td>1459.000000</td>\n",
              "      <td>1459.000000</td>\n",
              "      <td>1459.000000</td>\n",
              "      <td>1459.000000</td>\n",
              "      <td>1459.000000</td>\n",
              "    </tr>\n",
              "    <tr>\n",
              "      <th>mean</th>\n",
              "      <td>2190.000000</td>\n",
              "      <td>57.378341</td>\n",
              "      <td>68.580357</td>\n",
              "      <td>9819.161069</td>\n",
              "      <td>6.078821</td>\n",
              "      <td>5.553804</td>\n",
              "      <td>1971.357779</td>\n",
              "      <td>1983.662783</td>\n",
              "      <td>100.709141</td>\n",
              "      <td>439.203704</td>\n",
              "      <td>52.619342</td>\n",
              "      <td>554.294925</td>\n",
              "      <td>1046.117970</td>\n",
              "      <td>1156.534613</td>\n",
              "      <td>325.967786</td>\n",
              "      <td>3.543523</td>\n",
              "      <td>1486.045922</td>\n",
              "      <td>0.434454</td>\n",
              "      <td>0.065202</td>\n",
              "      <td>1.570939</td>\n",
              "      <td>0.377656</td>\n",
              "      <td>2.854010</td>\n",
              "      <td>1.042495</td>\n",
              "      <td>6.385195</td>\n",
              "      <td>0.58122</td>\n",
              "      <td>1977.721217</td>\n",
              "      <td>1.766118</td>\n",
              "      <td>472.768861</td>\n",
              "      <td>93.174777</td>\n",
              "      <td>48.313914</td>\n",
              "      <td>24.243317</td>\n",
              "      <td>1.794380</td>\n",
              "      <td>17.064428</td>\n",
              "      <td>1.744345</td>\n",
              "      <td>58.167923</td>\n",
              "      <td>6.104181</td>\n",
              "      <td>2007.769705</td>\n",
              "    </tr>\n",
              "    <tr>\n",
              "      <th>std</th>\n",
              "      <td>421.321334</td>\n",
              "      <td>42.746880</td>\n",
              "      <td>22.376841</td>\n",
              "      <td>4955.517327</td>\n",
              "      <td>1.436812</td>\n",
              "      <td>1.113740</td>\n",
              "      <td>30.390071</td>\n",
              "      <td>21.130467</td>\n",
              "      <td>177.625900</td>\n",
              "      <td>455.268042</td>\n",
              "      <td>176.753926</td>\n",
              "      <td>437.260486</td>\n",
              "      <td>442.898624</td>\n",
              "      <td>398.165820</td>\n",
              "      <td>420.610226</td>\n",
              "      <td>44.043251</td>\n",
              "      <td>485.566099</td>\n",
              "      <td>0.530648</td>\n",
              "      <td>0.252468</td>\n",
              "      <td>0.555190</td>\n",
              "      <td>0.503017</td>\n",
              "      <td>0.829788</td>\n",
              "      <td>0.208472</td>\n",
              "      <td>1.508895</td>\n",
              "      <td>0.64742</td>\n",
              "      <td>26.431175</td>\n",
              "      <td>0.775945</td>\n",
              "      <td>217.048611</td>\n",
              "      <td>127.744882</td>\n",
              "      <td>68.883364</td>\n",
              "      <td>67.227765</td>\n",
              "      <td>20.207842</td>\n",
              "      <td>56.609763</td>\n",
              "      <td>30.491646</td>\n",
              "      <td>630.806978</td>\n",
              "      <td>2.722432</td>\n",
              "      <td>1.301740</td>\n",
              "    </tr>\n",
              "    <tr>\n",
              "      <th>min</th>\n",
              "      <td>1461.000000</td>\n",
              "      <td>20.000000</td>\n",
              "      <td>21.000000</td>\n",
              "      <td>1470.000000</td>\n",
              "      <td>1.000000</td>\n",
              "      <td>1.000000</td>\n",
              "      <td>1879.000000</td>\n",
              "      <td>1950.000000</td>\n",
              "      <td>0.000000</td>\n",
              "      <td>0.000000</td>\n",
              "      <td>0.000000</td>\n",
              "      <td>0.000000</td>\n",
              "      <td>0.000000</td>\n",
              "      <td>407.000000</td>\n",
              "      <td>0.000000</td>\n",
              "      <td>0.000000</td>\n",
              "      <td>407.000000</td>\n",
              "      <td>0.000000</td>\n",
              "      <td>0.000000</td>\n",
              "      <td>0.000000</td>\n",
              "      <td>0.000000</td>\n",
              "      <td>0.000000</td>\n",
              "      <td>0.000000</td>\n",
              "      <td>3.000000</td>\n",
              "      <td>0.00000</td>\n",
              "      <td>1895.000000</td>\n",
              "      <td>0.000000</td>\n",
              "      <td>0.000000</td>\n",
              "      <td>0.000000</td>\n",
              "      <td>0.000000</td>\n",
              "      <td>0.000000</td>\n",
              "      <td>0.000000</td>\n",
              "      <td>0.000000</td>\n",
              "      <td>0.000000</td>\n",
              "      <td>0.000000</td>\n",
              "      <td>1.000000</td>\n",
              "      <td>2006.000000</td>\n",
              "    </tr>\n",
              "    <tr>\n",
              "      <th>25%</th>\n",
              "      <td>1825.500000</td>\n",
              "      <td>20.000000</td>\n",
              "      <td>58.000000</td>\n",
              "      <td>7391.000000</td>\n",
              "      <td>5.000000</td>\n",
              "      <td>5.000000</td>\n",
              "      <td>1953.000000</td>\n",
              "      <td>1963.000000</td>\n",
              "      <td>0.000000</td>\n",
              "      <td>0.000000</td>\n",
              "      <td>0.000000</td>\n",
              "      <td>219.250000</td>\n",
              "      <td>784.000000</td>\n",
              "      <td>873.500000</td>\n",
              "      <td>0.000000</td>\n",
              "      <td>0.000000</td>\n",
              "      <td>1117.500000</td>\n",
              "      <td>0.000000</td>\n",
              "      <td>0.000000</td>\n",
              "      <td>1.000000</td>\n",
              "      <td>0.000000</td>\n",
              "      <td>2.000000</td>\n",
              "      <td>1.000000</td>\n",
              "      <td>5.000000</td>\n",
              "      <td>0.00000</td>\n",
              "      <td>1959.000000</td>\n",
              "      <td>1.000000</td>\n",
              "      <td>318.000000</td>\n",
              "      <td>0.000000</td>\n",
              "      <td>0.000000</td>\n",
              "      <td>0.000000</td>\n",
              "      <td>0.000000</td>\n",
              "      <td>0.000000</td>\n",
              "      <td>0.000000</td>\n",
              "      <td>0.000000</td>\n",
              "      <td>4.000000</td>\n",
              "      <td>2007.000000</td>\n",
              "    </tr>\n",
              "    <tr>\n",
              "      <th>50%</th>\n",
              "      <td>2190.000000</td>\n",
              "      <td>50.000000</td>\n",
              "      <td>67.000000</td>\n",
              "      <td>9399.000000</td>\n",
              "      <td>6.000000</td>\n",
              "      <td>5.000000</td>\n",
              "      <td>1973.000000</td>\n",
              "      <td>1992.000000</td>\n",
              "      <td>0.000000</td>\n",
              "      <td>350.500000</td>\n",
              "      <td>0.000000</td>\n",
              "      <td>460.000000</td>\n",
              "      <td>988.000000</td>\n",
              "      <td>1079.000000</td>\n",
              "      <td>0.000000</td>\n",
              "      <td>0.000000</td>\n",
              "      <td>1432.000000</td>\n",
              "      <td>0.000000</td>\n",
              "      <td>0.000000</td>\n",
              "      <td>2.000000</td>\n",
              "      <td>0.000000</td>\n",
              "      <td>3.000000</td>\n",
              "      <td>1.000000</td>\n",
              "      <td>6.000000</td>\n",
              "      <td>0.00000</td>\n",
              "      <td>1979.000000</td>\n",
              "      <td>2.000000</td>\n",
              "      <td>480.000000</td>\n",
              "      <td>0.000000</td>\n",
              "      <td>28.000000</td>\n",
              "      <td>0.000000</td>\n",
              "      <td>0.000000</td>\n",
              "      <td>0.000000</td>\n",
              "      <td>0.000000</td>\n",
              "      <td>0.000000</td>\n",
              "      <td>6.000000</td>\n",
              "      <td>2008.000000</td>\n",
              "    </tr>\n",
              "    <tr>\n",
              "      <th>75%</th>\n",
              "      <td>2554.500000</td>\n",
              "      <td>70.000000</td>\n",
              "      <td>80.000000</td>\n",
              "      <td>11517.500000</td>\n",
              "      <td>7.000000</td>\n",
              "      <td>6.000000</td>\n",
              "      <td>2001.000000</td>\n",
              "      <td>2004.000000</td>\n",
              "      <td>164.000000</td>\n",
              "      <td>753.500000</td>\n",
              "      <td>0.000000</td>\n",
              "      <td>797.750000</td>\n",
              "      <td>1305.000000</td>\n",
              "      <td>1382.500000</td>\n",
              "      <td>676.000000</td>\n",
              "      <td>0.000000</td>\n",
              "      <td>1721.000000</td>\n",
              "      <td>1.000000</td>\n",
              "      <td>0.000000</td>\n",
              "      <td>2.000000</td>\n",
              "      <td>1.000000</td>\n",
              "      <td>3.000000</td>\n",
              "      <td>1.000000</td>\n",
              "      <td>7.000000</td>\n",
              "      <td>1.00000</td>\n",
              "      <td>2002.000000</td>\n",
              "      <td>2.000000</td>\n",
              "      <td>576.000000</td>\n",
              "      <td>168.000000</td>\n",
              "      <td>72.000000</td>\n",
              "      <td>0.000000</td>\n",
              "      <td>0.000000</td>\n",
              "      <td>0.000000</td>\n",
              "      <td>0.000000</td>\n",
              "      <td>0.000000</td>\n",
              "      <td>8.000000</td>\n",
              "      <td>2009.000000</td>\n",
              "    </tr>\n",
              "    <tr>\n",
              "      <th>max</th>\n",
              "      <td>2919.000000</td>\n",
              "      <td>190.000000</td>\n",
              "      <td>200.000000</td>\n",
              "      <td>56600.000000</td>\n",
              "      <td>10.000000</td>\n",
              "      <td>9.000000</td>\n",
              "      <td>2010.000000</td>\n",
              "      <td>2010.000000</td>\n",
              "      <td>1290.000000</td>\n",
              "      <td>4010.000000</td>\n",
              "      <td>1526.000000</td>\n",
              "      <td>2140.000000</td>\n",
              "      <td>5095.000000</td>\n",
              "      <td>5095.000000</td>\n",
              "      <td>1862.000000</td>\n",
              "      <td>1064.000000</td>\n",
              "      <td>5095.000000</td>\n",
              "      <td>3.000000</td>\n",
              "      <td>2.000000</td>\n",
              "      <td>4.000000</td>\n",
              "      <td>2.000000</td>\n",
              "      <td>6.000000</td>\n",
              "      <td>2.000000</td>\n",
              "      <td>15.000000</td>\n",
              "      <td>4.00000</td>\n",
              "      <td>2207.000000</td>\n",
              "      <td>5.000000</td>\n",
              "      <td>1488.000000</td>\n",
              "      <td>1424.000000</td>\n",
              "      <td>742.000000</td>\n",
              "      <td>1012.000000</td>\n",
              "      <td>360.000000</td>\n",
              "      <td>576.000000</td>\n",
              "      <td>800.000000</td>\n",
              "      <td>17000.000000</td>\n",
              "      <td>12.000000</td>\n",
              "      <td>2010.000000</td>\n",
              "    </tr>\n",
              "  </tbody>\n",
              "</table>\n",
              "</div>"
            ],
            "text/plain": [
              "                Id   MSSubClass  ...       MoSold       YrSold\n",
              "count  1459.000000  1459.000000  ...  1459.000000  1459.000000\n",
              "mean   2190.000000    57.378341  ...     6.104181  2007.769705\n",
              "std     421.321334    42.746880  ...     2.722432     1.301740\n",
              "min    1461.000000    20.000000  ...     1.000000  2006.000000\n",
              "25%    1825.500000    20.000000  ...     4.000000  2007.000000\n",
              "50%    2190.000000    50.000000  ...     6.000000  2008.000000\n",
              "75%    2554.500000    70.000000  ...     8.000000  2009.000000\n",
              "max    2919.000000   190.000000  ...    12.000000  2010.000000\n",
              "\n",
              "[8 rows x 37 columns]"
            ]
          },
          "metadata": {},
          "execution_count": 4
        }
      ]
    },
    {
      "cell_type": "code",
      "metadata": {
        "colab": {
          "base_uri": "https://localhost:8080/"
        },
        "id": "1uCXrXZObxTm",
        "outputId": "27e181d0-c18f-46d7-ecc6-4130d09e2559"
      },
      "source": [
        "print(dftr.isna().sum(),'\\n',dfte.isna().sum())"
      ],
      "execution_count": null,
      "outputs": [
        {
          "output_type": "stream",
          "name": "stdout",
          "text": [
            "Id                 0\n",
            "MSSubClass         0\n",
            "MSZoning           0\n",
            "LotFrontage      259\n",
            "LotArea            0\n",
            "                ... \n",
            "MoSold             0\n",
            "YrSold             0\n",
            "SaleType           0\n",
            "SaleCondition      0\n",
            "SalePrice          0\n",
            "Length: 81, dtype: int64 \n",
            " Id                 0\n",
            "MSSubClass         0\n",
            "MSZoning           4\n",
            "LotFrontage      227\n",
            "LotArea            0\n",
            "                ... \n",
            "MiscVal            0\n",
            "MoSold             0\n",
            "YrSold             0\n",
            "SaleType           1\n",
            "SaleCondition      0\n",
            "Length: 80, dtype: int64\n"
          ]
        }
      ]
    },
    {
      "cell_type": "code",
      "metadata": {
        "id": "tER_PqE4cJxo"
      },
      "source": [
        "import matplotlib.pyplot as plt\n",
        "import seaborn as sns"
      ],
      "execution_count": null,
      "outputs": []
    },
    {
      "cell_type": "markdown",
      "metadata": {
        "id": "tbwcJP0AdN_C"
      },
      "source": [
        "Genrating labels for **Objects**\n",
        "so we would have floats int and our new defined labels instead of Objects"
      ]
    },
    {
      "cell_type": "code",
      "metadata": {
        "id": "XFElmMrxcq_N"
      },
      "source": [
        "from sklearn.preprocessing import LabelEncoder\n",
        "\n",
        "for i in range(dftr.shape[1]):\n",
        "    if dftr.iloc[:,i].dtypes == object:\n",
        "        lbl = LabelEncoder()\n",
        "        lbl.fit(list(dftr.iloc[:,i].values) + list(dfte.iloc[:,i].values))\n",
        "        dftr.iloc[:,i] = lbl.transform(list(dftr.iloc[:,i].values))\n",
        "        dfte.iloc[:,i] = lbl.transform(list(dfte.iloc[:,i].values))\n",
        "\n"
      ],
      "execution_count": null,
      "outputs": []
    },
    {
      "cell_type": "markdown",
      "metadata": {
        "id": "uVec6afveOmT"
      },
      "source": [
        "making a new df with col names and Nan percentege"
      ]
    },
    {
      "cell_type": "code",
      "metadata": {
        "colab": {
          "base_uri": "https://localhost:8080/",
          "height": 512
        },
        "id": "23HcM09AdvHs",
        "outputId": "5a4f46f3-4433-4a67-836a-3704584b7ab6"
      },
      "source": [
        "# Collist=[]\n",
        "# for i in np.arange(dftr.shape[1]):\n",
        "#   n = dftr.iloc[:,i].isnull().sum() \n",
        "#   Collist.append(n)\n",
        "# c = dftr.columns.values.tolist()\n",
        "# f = Collist + c\n",
        "# finalar=np.array(f)\n",
        "# finalar = finalar.reshape(2,81)\n",
        "# print(finalar)\n",
        "# df = pd.DataFrame(finalar) \n",
        "# df"
      ],
      "execution_count": null,
      "outputs": [
        {
          "output_type": "stream",
          "name": "stdout",
          "text": [
            "[['0' '0' '0' '259' '0' '0' '0' '0' '0' '0' '0' '0' '0' '0' '0' '0' '0'\n",
            "  '0' '0' '0' '0' '0' '0' '0' '0' '0' '8' '0' '0' '0' '0' '0' '0' '0' '0'\n",
            "  '0' '0' '0' '0' '0' '0' '0' '0' '0' '0' '0' '0' '0' '0' '0' '0' '0' '0'\n",
            "  '0' '0' '0' '0' '0' '0' '81' '0' '0' '0' '0' '0' '0' '0' '0' '0' '0'\n",
            "  '0' '0' '0' '0' '0' '0' '0' '0' '0' '0' '0']\n",
            " ['Id' 'MSSubClass' 'MSZoning' 'LotFrontage' 'LotArea' 'Street' 'Alley'\n",
            "  'LotShape' 'LandContour' 'Utilities' 'LotConfig' 'LandSlope'\n",
            "  'Neighborhood' 'Condition1' 'Condition2' 'BldgType' 'HouseStyle'\n",
            "  'OverallQual' 'OverallCond' 'YearBuilt' 'YearRemodAdd' 'RoofStyle'\n",
            "  'RoofMatl' 'Exterior1st' 'Exterior2nd' 'MasVnrType' 'MasVnrArea'\n",
            "  'ExterQual' 'ExterCond' 'Foundation' 'BsmtQual' 'BsmtCond'\n",
            "  'BsmtExposure' 'BsmtFinType1' 'BsmtFinSF1' 'BsmtFinType2' 'BsmtFinSF2'\n",
            "  'BsmtUnfSF' 'TotalBsmtSF' 'Heating' 'HeatingQC' 'CentralAir'\n",
            "  'Electrical' '1stFlrSF' '2ndFlrSF' 'LowQualFinSF' 'GrLivArea'\n",
            "  'BsmtFullBath' 'BsmtHalfBath' 'FullBath' 'HalfBath' 'BedroomAbvGr'\n",
            "  'KitchenAbvGr' 'KitchenQual' 'TotRmsAbvGrd' 'Functional' 'Fireplaces'\n",
            "  'FireplaceQu' 'GarageType' 'GarageYrBlt' 'GarageFinish' 'GarageCars'\n",
            "  'GarageArea' 'GarageQual' 'GarageCond' 'PavedDrive' 'WoodDeckSF'\n",
            "  'OpenPorchSF' 'EnclosedPorch' '3SsnPorch' 'ScreenPorch' 'PoolArea'\n",
            "  'PoolQC' 'Fence' 'MiscFeature' 'MiscVal' 'MoSold' 'YrSold' 'SaleType'\n",
            "  'SaleCondition' 'SalePrice']]\n"
          ]
        },
        {
          "output_type": "execute_result",
          "data": {
            "text/html": [
              "<div>\n",
              "<style scoped>\n",
              "    .dataframe tbody tr th:only-of-type {\n",
              "        vertical-align: middle;\n",
              "    }\n",
              "\n",
              "    .dataframe tbody tr th {\n",
              "        vertical-align: top;\n",
              "    }\n",
              "\n",
              "    .dataframe thead th {\n",
              "        text-align: right;\n",
              "    }\n",
              "</style>\n",
              "<table border=\"1\" class=\"dataframe\">\n",
              "  <thead>\n",
              "    <tr style=\"text-align: right;\">\n",
              "      <th></th>\n",
              "      <th>0</th>\n",
              "      <th>1</th>\n",
              "      <th>2</th>\n",
              "      <th>3</th>\n",
              "      <th>4</th>\n",
              "      <th>5</th>\n",
              "      <th>6</th>\n",
              "      <th>7</th>\n",
              "      <th>8</th>\n",
              "      <th>9</th>\n",
              "      <th>10</th>\n",
              "      <th>11</th>\n",
              "      <th>12</th>\n",
              "      <th>13</th>\n",
              "      <th>14</th>\n",
              "      <th>15</th>\n",
              "      <th>16</th>\n",
              "      <th>17</th>\n",
              "      <th>18</th>\n",
              "      <th>19</th>\n",
              "      <th>20</th>\n",
              "      <th>21</th>\n",
              "      <th>22</th>\n",
              "      <th>23</th>\n",
              "      <th>24</th>\n",
              "      <th>25</th>\n",
              "      <th>26</th>\n",
              "      <th>27</th>\n",
              "      <th>28</th>\n",
              "      <th>29</th>\n",
              "      <th>30</th>\n",
              "      <th>31</th>\n",
              "      <th>32</th>\n",
              "      <th>33</th>\n",
              "      <th>34</th>\n",
              "      <th>35</th>\n",
              "      <th>36</th>\n",
              "      <th>37</th>\n",
              "      <th>38</th>\n",
              "      <th>39</th>\n",
              "      <th>...</th>\n",
              "      <th>41</th>\n",
              "      <th>42</th>\n",
              "      <th>43</th>\n",
              "      <th>44</th>\n",
              "      <th>45</th>\n",
              "      <th>46</th>\n",
              "      <th>47</th>\n",
              "      <th>48</th>\n",
              "      <th>49</th>\n",
              "      <th>50</th>\n",
              "      <th>51</th>\n",
              "      <th>52</th>\n",
              "      <th>53</th>\n",
              "      <th>54</th>\n",
              "      <th>55</th>\n",
              "      <th>56</th>\n",
              "      <th>57</th>\n",
              "      <th>58</th>\n",
              "      <th>59</th>\n",
              "      <th>60</th>\n",
              "      <th>61</th>\n",
              "      <th>62</th>\n",
              "      <th>63</th>\n",
              "      <th>64</th>\n",
              "      <th>65</th>\n",
              "      <th>66</th>\n",
              "      <th>67</th>\n",
              "      <th>68</th>\n",
              "      <th>69</th>\n",
              "      <th>70</th>\n",
              "      <th>71</th>\n",
              "      <th>72</th>\n",
              "      <th>73</th>\n",
              "      <th>74</th>\n",
              "      <th>75</th>\n",
              "      <th>76</th>\n",
              "      <th>77</th>\n",
              "      <th>78</th>\n",
              "      <th>79</th>\n",
              "      <th>80</th>\n",
              "    </tr>\n",
              "  </thead>\n",
              "  <tbody>\n",
              "    <tr>\n",
              "      <th>0</th>\n",
              "      <td>0</td>\n",
              "      <td>0</td>\n",
              "      <td>0</td>\n",
              "      <td>259</td>\n",
              "      <td>0</td>\n",
              "      <td>0</td>\n",
              "      <td>0</td>\n",
              "      <td>0</td>\n",
              "      <td>0</td>\n",
              "      <td>0</td>\n",
              "      <td>0</td>\n",
              "      <td>0</td>\n",
              "      <td>0</td>\n",
              "      <td>0</td>\n",
              "      <td>0</td>\n",
              "      <td>0</td>\n",
              "      <td>0</td>\n",
              "      <td>0</td>\n",
              "      <td>0</td>\n",
              "      <td>0</td>\n",
              "      <td>0</td>\n",
              "      <td>0</td>\n",
              "      <td>0</td>\n",
              "      <td>0</td>\n",
              "      <td>0</td>\n",
              "      <td>0</td>\n",
              "      <td>8</td>\n",
              "      <td>0</td>\n",
              "      <td>0</td>\n",
              "      <td>0</td>\n",
              "      <td>0</td>\n",
              "      <td>0</td>\n",
              "      <td>0</td>\n",
              "      <td>0</td>\n",
              "      <td>0</td>\n",
              "      <td>0</td>\n",
              "      <td>0</td>\n",
              "      <td>0</td>\n",
              "      <td>0</td>\n",
              "      <td>0</td>\n",
              "      <td>...</td>\n",
              "      <td>0</td>\n",
              "      <td>0</td>\n",
              "      <td>0</td>\n",
              "      <td>0</td>\n",
              "      <td>0</td>\n",
              "      <td>0</td>\n",
              "      <td>0</td>\n",
              "      <td>0</td>\n",
              "      <td>0</td>\n",
              "      <td>0</td>\n",
              "      <td>0</td>\n",
              "      <td>0</td>\n",
              "      <td>0</td>\n",
              "      <td>0</td>\n",
              "      <td>0</td>\n",
              "      <td>0</td>\n",
              "      <td>0</td>\n",
              "      <td>0</td>\n",
              "      <td>81</td>\n",
              "      <td>0</td>\n",
              "      <td>0</td>\n",
              "      <td>0</td>\n",
              "      <td>0</td>\n",
              "      <td>0</td>\n",
              "      <td>0</td>\n",
              "      <td>0</td>\n",
              "      <td>0</td>\n",
              "      <td>0</td>\n",
              "      <td>0</td>\n",
              "      <td>0</td>\n",
              "      <td>0</td>\n",
              "      <td>0</td>\n",
              "      <td>0</td>\n",
              "      <td>0</td>\n",
              "      <td>0</td>\n",
              "      <td>0</td>\n",
              "      <td>0</td>\n",
              "      <td>0</td>\n",
              "      <td>0</td>\n",
              "      <td>0</td>\n",
              "    </tr>\n",
              "    <tr>\n",
              "      <th>1</th>\n",
              "      <td>Id</td>\n",
              "      <td>MSSubClass</td>\n",
              "      <td>MSZoning</td>\n",
              "      <td>LotFrontage</td>\n",
              "      <td>LotArea</td>\n",
              "      <td>Street</td>\n",
              "      <td>Alley</td>\n",
              "      <td>LotShape</td>\n",
              "      <td>LandContour</td>\n",
              "      <td>Utilities</td>\n",
              "      <td>LotConfig</td>\n",
              "      <td>LandSlope</td>\n",
              "      <td>Neighborhood</td>\n",
              "      <td>Condition1</td>\n",
              "      <td>Condition2</td>\n",
              "      <td>BldgType</td>\n",
              "      <td>HouseStyle</td>\n",
              "      <td>OverallQual</td>\n",
              "      <td>OverallCond</td>\n",
              "      <td>YearBuilt</td>\n",
              "      <td>YearRemodAdd</td>\n",
              "      <td>RoofStyle</td>\n",
              "      <td>RoofMatl</td>\n",
              "      <td>Exterior1st</td>\n",
              "      <td>Exterior2nd</td>\n",
              "      <td>MasVnrType</td>\n",
              "      <td>MasVnrArea</td>\n",
              "      <td>ExterQual</td>\n",
              "      <td>ExterCond</td>\n",
              "      <td>Foundation</td>\n",
              "      <td>BsmtQual</td>\n",
              "      <td>BsmtCond</td>\n",
              "      <td>BsmtExposure</td>\n",
              "      <td>BsmtFinType1</td>\n",
              "      <td>BsmtFinSF1</td>\n",
              "      <td>BsmtFinType2</td>\n",
              "      <td>BsmtFinSF2</td>\n",
              "      <td>BsmtUnfSF</td>\n",
              "      <td>TotalBsmtSF</td>\n",
              "      <td>Heating</td>\n",
              "      <td>...</td>\n",
              "      <td>CentralAir</td>\n",
              "      <td>Electrical</td>\n",
              "      <td>1stFlrSF</td>\n",
              "      <td>2ndFlrSF</td>\n",
              "      <td>LowQualFinSF</td>\n",
              "      <td>GrLivArea</td>\n",
              "      <td>BsmtFullBath</td>\n",
              "      <td>BsmtHalfBath</td>\n",
              "      <td>FullBath</td>\n",
              "      <td>HalfBath</td>\n",
              "      <td>BedroomAbvGr</td>\n",
              "      <td>KitchenAbvGr</td>\n",
              "      <td>KitchenQual</td>\n",
              "      <td>TotRmsAbvGrd</td>\n",
              "      <td>Functional</td>\n",
              "      <td>Fireplaces</td>\n",
              "      <td>FireplaceQu</td>\n",
              "      <td>GarageType</td>\n",
              "      <td>GarageYrBlt</td>\n",
              "      <td>GarageFinish</td>\n",
              "      <td>GarageCars</td>\n",
              "      <td>GarageArea</td>\n",
              "      <td>GarageQual</td>\n",
              "      <td>GarageCond</td>\n",
              "      <td>PavedDrive</td>\n",
              "      <td>WoodDeckSF</td>\n",
              "      <td>OpenPorchSF</td>\n",
              "      <td>EnclosedPorch</td>\n",
              "      <td>3SsnPorch</td>\n",
              "      <td>ScreenPorch</td>\n",
              "      <td>PoolArea</td>\n",
              "      <td>PoolQC</td>\n",
              "      <td>Fence</td>\n",
              "      <td>MiscFeature</td>\n",
              "      <td>MiscVal</td>\n",
              "      <td>MoSold</td>\n",
              "      <td>YrSold</td>\n",
              "      <td>SaleType</td>\n",
              "      <td>SaleCondition</td>\n",
              "      <td>SalePrice</td>\n",
              "    </tr>\n",
              "  </tbody>\n",
              "</table>\n",
              "<p>2 rows × 81 columns</p>\n",
              "</div>"
            ],
            "text/plain": [
              "   0           1         2   ...        78             79         80\n",
              "0   0           0         0  ...         0              0          0\n",
              "1  Id  MSSubClass  MSZoning  ...  SaleType  SaleCondition  SalePrice\n",
              "\n",
              "[2 rows x 81 columns]"
            ]
          },
          "metadata": {},
          "execution_count": 42
        }
      ]
    },
    {
      "cell_type": "code",
      "metadata": {
        "colab": {
          "base_uri": "https://localhost:8080/"
        },
        "id": "8J30BCYfrA9N",
        "outputId": "37ce0431-4c25-49be-ac84-5bf2057977a2"
      },
      "source": [
        " n = ((dfte.isnull() | dfte.isna()).sum() * 100 / dfte.index.size).round(2)\n",
        " list(n>80)"
      ],
      "execution_count": null,
      "outputs": [
        {
          "output_type": "execute_result",
          "data": {
            "text/plain": [
              "[False,\n",
              " False,\n",
              " False,\n",
              " False,\n",
              " False,\n",
              " False,\n",
              " False,\n",
              " False,\n",
              " False,\n",
              " False,\n",
              " False,\n",
              " False,\n",
              " False,\n",
              " False,\n",
              " False,\n",
              " False,\n",
              " False,\n",
              " False,\n",
              " False,\n",
              " False,\n",
              " False,\n",
              " False,\n",
              " False,\n",
              " False,\n",
              " False,\n",
              " False,\n",
              " False,\n",
              " False,\n",
              " False,\n",
              " False,\n",
              " False,\n",
              " False,\n",
              " False,\n",
              " False,\n",
              " False,\n",
              " False,\n",
              " False,\n",
              " False,\n",
              " False,\n",
              " False,\n",
              " False,\n",
              " False,\n",
              " False,\n",
              " False,\n",
              " False,\n",
              " False,\n",
              " False,\n",
              " False,\n",
              " False,\n",
              " False,\n",
              " False,\n",
              " False,\n",
              " False,\n",
              " False,\n",
              " False,\n",
              " False,\n",
              " False,\n",
              " False,\n",
              " False,\n",
              " False,\n",
              " False,\n",
              " False,\n",
              " False,\n",
              " False,\n",
              " False,\n",
              " False,\n",
              " False,\n",
              " False,\n",
              " False,\n",
              " False,\n",
              " False,\n",
              " False,\n",
              " False,\n",
              " False,\n",
              " False,\n",
              " False,\n",
              " False,\n",
              " False,\n",
              " False,\n",
              " False]"
            ]
          },
          "metadata": {},
          "execution_count": 62
        }
      ]
    },
    {
      "cell_type": "code",
      "metadata": {
        "colab": {
          "base_uri": "https://localhost:8080/"
        },
        "id": "cZJpcvYne6jt",
        "outputId": "1d89872b-ca01-40fe-c9b6-a5c697a9604d"
      },
      "source": [
        "for i in np.arange(dftr.shape[1]):\n",
        "    n = dftr.iloc[:,i].isnull().sum() \n",
        "    \n",
        "    if n > 0:\n",
        "        print(list(dftr.columns.values)[i] + ': ' + str(n) + ' nans')\n",
        "print(\"\\n\")\n",
        "for i in np.arange(dfte.shape[1]):\n",
        "    n = dfte.iloc[:,i].isnull().sum() \n",
        "    if n > 0:\n",
        "        print(list(dfte.columns.values)[i] + ': ' + str(n) + ' nans')"
      ],
      "execution_count": null,
      "outputs": [
        {
          "output_type": "stream",
          "name": "stdout",
          "text": [
            "LotFrontage: 259 nans\n",
            "MasVnrArea: 8 nans\n",
            "GarageYrBlt: 81 nans\n",
            "\n",
            "\n",
            "LotFrontage: 227 nans\n",
            "MasVnrArea: 15 nans\n",
            "BsmtFinSF1: 1 nans\n",
            "BsmtFinSF2: 1 nans\n",
            "BsmtUnfSF: 1 nans\n",
            "TotalBsmtSF: 1 nans\n",
            "BsmtFullBath: 2 nans\n",
            "BsmtHalfBath: 2 nans\n",
            "GarageYrBlt: 78 nans\n",
            "GarageCars: 1 nans\n",
            "GarageArea: 1 nans\n"
          ]
        }
      ]
    },
    {
      "cell_type": "code",
      "metadata": {
        "colab": {
          "base_uri": "https://localhost:8080/",
          "height": 417
        },
        "id": "e8sQpmdFmOHB",
        "outputId": "04f54dcd-adc6-4d0a-ce28-db41fe6e82e0"
      },
      "source": [
        "percent_missing1 = dftr.isnull().sum() * 100 / len(dftr)\n",
        "missing_value_dftr = pd.DataFrame({'column_name': dftr.columns,\n",
        "                                 'percent_missing': percent_missing1})\n",
        "missing_value_dftr"
      ],
      "execution_count": null,
      "outputs": [
        {
          "output_type": "execute_result",
          "data": {
            "text/html": [
              "<div>\n",
              "<style scoped>\n",
              "    .dataframe tbody tr th:only-of-type {\n",
              "        vertical-align: middle;\n",
              "    }\n",
              "\n",
              "    .dataframe tbody tr th {\n",
              "        vertical-align: top;\n",
              "    }\n",
              "\n",
              "    .dataframe thead th {\n",
              "        text-align: right;\n",
              "    }\n",
              "</style>\n",
              "<table border=\"1\" class=\"dataframe\">\n",
              "  <thead>\n",
              "    <tr style=\"text-align: right;\">\n",
              "      <th></th>\n",
              "      <th>column_name</th>\n",
              "      <th>percent_missing</th>\n",
              "    </tr>\n",
              "  </thead>\n",
              "  <tbody>\n",
              "    <tr>\n",
              "      <th>Id</th>\n",
              "      <td>Id</td>\n",
              "      <td>0.000000</td>\n",
              "    </tr>\n",
              "    <tr>\n",
              "      <th>MSSubClass</th>\n",
              "      <td>MSSubClass</td>\n",
              "      <td>0.000000</td>\n",
              "    </tr>\n",
              "    <tr>\n",
              "      <th>MSZoning</th>\n",
              "      <td>MSZoning</td>\n",
              "      <td>0.000000</td>\n",
              "    </tr>\n",
              "    <tr>\n",
              "      <th>LotFrontage</th>\n",
              "      <td>LotFrontage</td>\n",
              "      <td>17.739726</td>\n",
              "    </tr>\n",
              "    <tr>\n",
              "      <th>LotArea</th>\n",
              "      <td>LotArea</td>\n",
              "      <td>0.000000</td>\n",
              "    </tr>\n",
              "    <tr>\n",
              "      <th>...</th>\n",
              "      <td>...</td>\n",
              "      <td>...</td>\n",
              "    </tr>\n",
              "    <tr>\n",
              "      <th>MoSold</th>\n",
              "      <td>MoSold</td>\n",
              "      <td>0.000000</td>\n",
              "    </tr>\n",
              "    <tr>\n",
              "      <th>YrSold</th>\n",
              "      <td>YrSold</td>\n",
              "      <td>0.000000</td>\n",
              "    </tr>\n",
              "    <tr>\n",
              "      <th>SaleType</th>\n",
              "      <td>SaleType</td>\n",
              "      <td>0.000000</td>\n",
              "    </tr>\n",
              "    <tr>\n",
              "      <th>SaleCondition</th>\n",
              "      <td>SaleCondition</td>\n",
              "      <td>0.000000</td>\n",
              "    </tr>\n",
              "    <tr>\n",
              "      <th>SalePrice</th>\n",
              "      <td>SalePrice</td>\n",
              "      <td>0.000000</td>\n",
              "    </tr>\n",
              "  </tbody>\n",
              "</table>\n",
              "<p>81 rows × 2 columns</p>\n",
              "</div>"
            ],
            "text/plain": [
              "                 column_name  percent_missing\n",
              "Id                        Id         0.000000\n",
              "MSSubClass        MSSubClass         0.000000\n",
              "MSZoning            MSZoning         0.000000\n",
              "LotFrontage      LotFrontage        17.739726\n",
              "LotArea              LotArea         0.000000\n",
              "...                      ...              ...\n",
              "MoSold                MoSold         0.000000\n",
              "YrSold                YrSold         0.000000\n",
              "SaleType            SaleType         0.000000\n",
              "SaleCondition  SaleCondition         0.000000\n",
              "SalePrice          SalePrice         0.000000\n",
              "\n",
              "[81 rows x 2 columns]"
            ]
          },
          "metadata": {},
          "execution_count": 47
        }
      ]
    },
    {
      "cell_type": "code",
      "metadata": {
        "id": "lhV-6XSlnMIr"
      },
      "source": [
        "percent_missing = dfte.isnull().sum() * 100 / len(dfte)\n",
        "missing_value_dfte = pd.DataFrame({'column_name': dfte.columns,\n",
        "                                 'percent_missing': percent_missing})"
      ],
      "execution_count": null,
      "outputs": []
    },
    {
      "cell_type": "code",
      "metadata": {
        "colab": {
          "base_uri": "https://localhost:8080/",
          "height": 417
        },
        "id": "rYOQAbeNnifL",
        "outputId": "4fb48c7b-c184-4ec7-eb57-39828a7740b6"
      },
      "source": [
        "missing_value_dfte"
      ],
      "execution_count": null,
      "outputs": [
        {
          "output_type": "execute_result",
          "data": {
            "text/html": [
              "<div>\n",
              "<style scoped>\n",
              "    .dataframe tbody tr th:only-of-type {\n",
              "        vertical-align: middle;\n",
              "    }\n",
              "\n",
              "    .dataframe tbody tr th {\n",
              "        vertical-align: top;\n",
              "    }\n",
              "\n",
              "    .dataframe thead th {\n",
              "        text-align: right;\n",
              "    }\n",
              "</style>\n",
              "<table border=\"1\" class=\"dataframe\">\n",
              "  <thead>\n",
              "    <tr style=\"text-align: right;\">\n",
              "      <th></th>\n",
              "      <th>column_name</th>\n",
              "      <th>percent_missing</th>\n",
              "    </tr>\n",
              "  </thead>\n",
              "  <tbody>\n",
              "    <tr>\n",
              "      <th>Id</th>\n",
              "      <td>Id</td>\n",
              "      <td>0.000000</td>\n",
              "    </tr>\n",
              "    <tr>\n",
              "      <th>MSSubClass</th>\n",
              "      <td>MSSubClass</td>\n",
              "      <td>0.000000</td>\n",
              "    </tr>\n",
              "    <tr>\n",
              "      <th>MSZoning</th>\n",
              "      <td>MSZoning</td>\n",
              "      <td>0.000000</td>\n",
              "    </tr>\n",
              "    <tr>\n",
              "      <th>LotFrontage</th>\n",
              "      <td>LotFrontage</td>\n",
              "      <td>15.558602</td>\n",
              "    </tr>\n",
              "    <tr>\n",
              "      <th>LotArea</th>\n",
              "      <td>LotArea</td>\n",
              "      <td>0.000000</td>\n",
              "    </tr>\n",
              "    <tr>\n",
              "      <th>...</th>\n",
              "      <td>...</td>\n",
              "      <td>...</td>\n",
              "    </tr>\n",
              "    <tr>\n",
              "      <th>MiscVal</th>\n",
              "      <td>MiscVal</td>\n",
              "      <td>0.000000</td>\n",
              "    </tr>\n",
              "    <tr>\n",
              "      <th>MoSold</th>\n",
              "      <td>MoSold</td>\n",
              "      <td>0.000000</td>\n",
              "    </tr>\n",
              "    <tr>\n",
              "      <th>YrSold</th>\n",
              "      <td>YrSold</td>\n",
              "      <td>0.000000</td>\n",
              "    </tr>\n",
              "    <tr>\n",
              "      <th>SaleType</th>\n",
              "      <td>SaleType</td>\n",
              "      <td>0.000000</td>\n",
              "    </tr>\n",
              "    <tr>\n",
              "      <th>SaleCondition</th>\n",
              "      <td>SaleCondition</td>\n",
              "      <td>0.000000</td>\n",
              "    </tr>\n",
              "  </tbody>\n",
              "</table>\n",
              "<p>80 rows × 2 columns</p>\n",
              "</div>"
            ],
            "text/plain": [
              "                 column_name  percent_missing\n",
              "Id                        Id         0.000000\n",
              "MSSubClass        MSSubClass         0.000000\n",
              "MSZoning            MSZoning         0.000000\n",
              "LotFrontage      LotFrontage        15.558602\n",
              "LotArea              LotArea         0.000000\n",
              "...                      ...              ...\n",
              "MiscVal              MiscVal         0.000000\n",
              "MoSold                MoSold         0.000000\n",
              "YrSold                YrSold         0.000000\n",
              "SaleType            SaleType         0.000000\n",
              "SaleCondition  SaleCondition         0.000000\n",
              "\n",
              "[80 rows x 2 columns]"
            ]
          },
          "metadata": {},
          "execution_count": 49
        }
      ]
    },
    {
      "cell_type": "markdown",
      "metadata": {
        "id": "5KYA26HPxtLt"
      },
      "source": [
        "for spiliting"
      ]
    },
    {
      "cell_type": "code",
      "metadata": {
        "id": "goZThPk8xa68"
      },
      "source": [
        "\n",
        "train_ID = dftr['Id']\n",
        "test_ID = dfte['Id']\n",
        "y_train = dftr['SalePrice']\n",
        "X_train = dftr.drop(['Id','SalePrice'], axis=1)\n",
        "X_test = dfte.drop('Id', axis=1)"
      ],
      "execution_count": null,
      "outputs": []
    },
    {
      "cell_type": "markdown",
      "metadata": {
        "id": "TfUYjayjxwuj"
      },
      "source": [
        "data to drop"
      ]
    },
    {
      "cell_type": "code",
      "metadata": {
        "colab": {
          "base_uri": "https://localhost:8080/"
        },
        "id": "_u0u5Sa_nmlb",
        "outputId": "ac0e3489-7966-4bb0-f315-c80b24018805"
      },
      "source": [
        "#for dropping\n",
        "blacklist = ['LotFrontage','MasVnrArea','GarageYrBlt']\n",
        "xtots = pd.concat([X_train, X_test])\n",
        "xtots = xtots.drop(['LotFrontage','MasVnrArea','GarageYrBlt'], axis=1)\n",
        "xtots = xtots.fillna(xtots.median())\n",
        "print(xtots.columns.values)\n",
        "print(str(xtots.shape[1]) + ' columns')"
      ],
      "execution_count": null,
      "outputs": [
        {
          "output_type": "stream",
          "name": "stdout",
          "text": [
            "['MSSubClass' 'MSZoning' 'LotArea' 'Street' 'Alley' 'LotShape'\n",
            " 'LandContour' 'Utilities' 'LotConfig' 'LandSlope' 'Neighborhood'\n",
            " 'Condition1' 'Condition2' 'BldgType' 'HouseStyle' 'OverallQual'\n",
            " 'OverallCond' 'YearBuilt' 'YearRemodAdd' 'RoofStyle' 'RoofMatl'\n",
            " 'Exterior1st' 'Exterior2nd' 'MasVnrType' 'ExterQual' 'ExterCond'\n",
            " 'Foundation' 'BsmtQual' 'BsmtCond' 'BsmtExposure' 'BsmtFinType1'\n",
            " 'BsmtFinSF1' 'BsmtFinType2' 'BsmtFinSF2' 'BsmtUnfSF' 'TotalBsmtSF'\n",
            " 'Heating' 'HeatingQC' 'CentralAir' 'Electrical' '1stFlrSF' '2ndFlrSF'\n",
            " 'LowQualFinSF' 'GrLivArea' 'BsmtFullBath' 'BsmtHalfBath' 'FullBath'\n",
            " 'HalfBath' 'BedroomAbvGr' 'KitchenAbvGr' 'KitchenQual' 'TotRmsAbvGrd'\n",
            " 'Functional' 'Fireplaces' 'FireplaceQu' 'GarageType' 'GarageFinish'\n",
            " 'GarageCars' 'GarageArea' 'GarageQual' 'GarageCond' 'PavedDrive'\n",
            " 'WoodDeckSF' 'OpenPorchSF' 'EnclosedPorch' '3SsnPorch' 'ScreenPorch'\n",
            " 'PoolArea' 'PoolQC' 'Fence' 'MiscFeature' 'MiscVal' 'MoSold' 'YrSold'\n",
            " 'SaleType' 'SaleCondition']\n",
            "76 columns\n"
          ]
        }
      ]
    },
    {
      "cell_type": "markdown",
      "metadata": {
        "id": "9XADHLv5zB21"
      },
      "source": [
        "predicting numerical missing features"
      ]
    },
    {
      "cell_type": "code",
      "metadata": {
        "colab": {
          "base_uri": "https://localhost:8080/"
        },
        "id": "nmHNxA_VyQk9",
        "outputId": "5a33dfc8-4cb6-4dcf-b9d0-bc77ff90b733"
      },
      "source": [
        "for i in range(X_train.shape[1]):\n",
        "\t# count number of rows with missing values\n",
        "\tn_miss = X_train.iloc[i].isnull().sum()\n",
        "\tperc = n_miss / X_train.shape[0] * 100\n",
        "\tprint('> %d, Missing: %d (%.1f%%)' % (i, n_miss, perc))"
      ],
      "execution_count": null,
      "outputs": [
        {
          "output_type": "stream",
          "name": "stdout",
          "text": [
            "> 0, Missing: 0 (0.0%)\n",
            "> 1, Missing: 0 (0.0%)\n",
            "> 2, Missing: 0 (0.0%)\n",
            "> 3, Missing: 0 (0.0%)\n",
            "> 4, Missing: 0 (0.0%)\n",
            "> 5, Missing: 0 (0.0%)\n",
            "> 6, Missing: 0 (0.0%)\n",
            "> 7, Missing: 1 (0.1%)\n",
            "> 8, Missing: 0 (0.0%)\n",
            "> 9, Missing: 0 (0.0%)\n",
            "> 10, Missing: 0 (0.0%)\n",
            "> 11, Missing: 0 (0.0%)\n",
            "> 12, Missing: 1 (0.1%)\n",
            "> 13, Missing: 0 (0.0%)\n",
            "> 14, Missing: 1 (0.1%)\n",
            "> 15, Missing: 0 (0.0%)\n",
            "> 16, Missing: 1 (0.1%)\n",
            "> 17, Missing: 0 (0.0%)\n",
            "> 18, Missing: 0 (0.0%)\n",
            "> 19, Missing: 0 (0.0%)\n",
            "> 20, Missing: 0 (0.0%)\n",
            "> 21, Missing: 0 (0.0%)\n",
            "> 22, Missing: 0 (0.0%)\n",
            "> 23, Missing: 0 (0.0%)\n",
            "> 24, Missing: 1 (0.1%)\n",
            "> 25, Missing: 0 (0.0%)\n",
            "> 26, Missing: 0 (0.0%)\n",
            "> 27, Missing: 0 (0.0%)\n",
            "> 28, Missing: 0 (0.0%)\n",
            "> 29, Missing: 0 (0.0%)\n",
            "> 30, Missing: 0 (0.0%)\n",
            "> 31, Missing: 1 (0.1%)\n",
            "> 32, Missing: 0 (0.0%)\n",
            "> 33, Missing: 0 (0.0%)\n",
            "> 34, Missing: 0 (0.0%)\n",
            "> 35, Missing: 0 (0.0%)\n",
            "> 36, Missing: 0 (0.0%)\n",
            "> 37, Missing: 0 (0.0%)\n",
            "> 38, Missing: 0 (0.0%)\n",
            "> 39, Missing: 1 (0.1%)\n",
            "> 40, Missing: 0 (0.0%)\n",
            "> 41, Missing: 0 (0.0%)\n",
            "> 42, Missing: 1 (0.1%)\n",
            "> 43, Missing: 1 (0.1%)\n",
            "> 44, Missing: 0 (0.0%)\n",
            "> 45, Missing: 0 (0.0%)\n",
            "> 46, Missing: 0 (0.0%)\n",
            "> 47, Missing: 0 (0.0%)\n",
            "> 48, Missing: 1 (0.1%)\n",
            "> 49, Missing: 0 (0.0%)\n",
            "> 50, Missing: 1 (0.1%)\n",
            "> 51, Missing: 0 (0.0%)\n",
            "> 52, Missing: 0 (0.0%)\n",
            "> 53, Missing: 0 (0.0%)\n",
            "> 54, Missing: 0 (0.0%)\n",
            "> 55, Missing: 0 (0.0%)\n",
            "> 56, Missing: 0 (0.0%)\n",
            "> 57, Missing: 0 (0.0%)\n",
            "> 58, Missing: 0 (0.0%)\n",
            "> 59, Missing: 0 (0.0%)\n",
            "> 60, Missing: 0 (0.0%)\n",
            "> 61, Missing: 0 (0.0%)\n",
            "> 62, Missing: 0 (0.0%)\n",
            "> 63, Missing: 0 (0.0%)\n",
            "> 64, Missing: 1 (0.1%)\n",
            "> 65, Missing: 0 (0.0%)\n",
            "> 66, Missing: 1 (0.1%)\n",
            "> 67, Missing: 0 (0.0%)\n",
            "> 68, Missing: 0 (0.0%)\n",
            "> 69, Missing: 0 (0.0%)\n",
            "> 70, Missing: 0 (0.0%)\n",
            "> 71, Missing: 0 (0.0%)\n",
            "> 72, Missing: 0 (0.0%)\n",
            "> 73, Missing: 0 (0.0%)\n",
            "> 74, Missing: 0 (0.0%)\n",
            "> 75, Missing: 0 (0.0%)\n",
            "> 76, Missing: 1 (0.1%)\n",
            "> 77, Missing: 0 (0.0%)\n",
            "> 78, Missing: 1 (0.1%)\n"
          ]
        }
      ]
    },
    {
      "cell_type": "code",
      "metadata": {
        "colab": {
          "base_uri": "https://localhost:8080/"
        },
        "id": "betVPycA053E",
        "outputId": "2246b388-64c9-4353-f9a3-64711b38de66"
      },
      "source": [
        "for i in range(X_test.shape[1]):\n",
        "\t# count number of rows with missing values\n",
        "\tn_miss = X_test.iloc[i].isnull().sum()\n",
        "\tperc = n_miss / X_test.shape[0] * 100\n",
        "\tprint('> %d, Missing: %d (%.1f%%)' % (i, n_miss, perc))"
      ],
      "execution_count": null,
      "outputs": [
        {
          "output_type": "stream",
          "name": "stdout",
          "text": [
            "> 0, Missing: 0 (0.0%)\n",
            "> 1, Missing: 0 (0.0%)\n",
            "> 2, Missing: 0 (0.0%)\n",
            "> 3, Missing: 0 (0.0%)\n",
            "> 4, Missing: 0 (0.0%)\n",
            "> 5, Missing: 0 (0.0%)\n",
            "> 6, Missing: 1 (0.1%)\n",
            "> 7, Missing: 0 (0.0%)\n",
            "> 8, Missing: 0 (0.0%)\n",
            "> 9, Missing: 0 (0.0%)\n",
            "> 10, Missing: 0 (0.0%)\n",
            "> 11, Missing: 0 (0.0%)\n",
            "> 12, Missing: 0 (0.0%)\n",
            "> 13, Missing: 0 (0.0%)\n",
            "> 14, Missing: 0 (0.0%)\n",
            "> 15, Missing: 0 (0.0%)\n",
            "> 16, Missing: 0 (0.0%)\n",
            "> 17, Missing: 0 (0.0%)\n",
            "> 18, Missing: 0 (0.0%)\n",
            "> 19, Missing: 0 (0.0%)\n",
            "> 20, Missing: 0 (0.0%)\n",
            "> 21, Missing: 0 (0.0%)\n",
            "> 22, Missing: 0 (0.0%)\n",
            "> 23, Missing: 0 (0.0%)\n",
            "> 24, Missing: 0 (0.0%)\n",
            "> 25, Missing: 0 (0.0%)\n",
            "> 26, Missing: 0 (0.0%)\n",
            "> 27, Missing: 0 (0.0%)\n",
            "> 28, Missing: 0 (0.0%)\n",
            "> 29, Missing: 0 (0.0%)\n",
            "> 30, Missing: 0 (0.0%)\n",
            "> 31, Missing: 0 (0.0%)\n",
            "> 32, Missing: 0 (0.0%)\n",
            "> 33, Missing: 0 (0.0%)\n",
            "> 34, Missing: 0 (0.0%)\n",
            "> 35, Missing: 0 (0.0%)\n",
            "> 36, Missing: 0 (0.0%)\n",
            "> 37, Missing: 0 (0.0%)\n",
            "> 38, Missing: 0 (0.0%)\n",
            "> 39, Missing: 0 (0.0%)\n",
            "> 40, Missing: 1 (0.1%)\n",
            "> 41, Missing: 1 (0.1%)\n",
            "> 42, Missing: 0 (0.0%)\n",
            "> 43, Missing: 0 (0.0%)\n",
            "> 44, Missing: 0 (0.0%)\n",
            "> 45, Missing: 1 (0.1%)\n",
            "> 46, Missing: 0 (0.0%)\n",
            "> 47, Missing: 1 (0.1%)\n",
            "> 48, Missing: 0 (0.0%)\n",
            "> 49, Missing: 0 (0.0%)\n",
            "> 50, Missing: 0 (0.0%)\n",
            "> 51, Missing: 0 (0.0%)\n",
            "> 52, Missing: 1 (0.1%)\n",
            "> 53, Missing: 1 (0.1%)\n",
            "> 54, Missing: 0 (0.0%)\n",
            "> 55, Missing: 0 (0.0%)\n",
            "> 56, Missing: 0 (0.0%)\n",
            "> 57, Missing: 0 (0.0%)\n",
            "> 58, Missing: 0 (0.0%)\n",
            "> 59, Missing: 1 (0.1%)\n",
            "> 60, Missing: 0 (0.0%)\n",
            "> 61, Missing: 0 (0.0%)\n",
            "> 62, Missing: 0 (0.0%)\n",
            "> 63, Missing: 0 (0.0%)\n",
            "> 64, Missing: 0 (0.0%)\n",
            "> 65, Missing: 0 (0.0%)\n",
            "> 66, Missing: 0 (0.0%)\n",
            "> 67, Missing: 0 (0.0%)\n",
            "> 68, Missing: 0 (0.0%)\n",
            "> 69, Missing: 0 (0.0%)\n",
            "> 70, Missing: 0 (0.0%)\n",
            "> 71, Missing: 1 (0.1%)\n",
            "> 72, Missing: 0 (0.0%)\n",
            "> 73, Missing: 0 (0.0%)\n",
            "> 74, Missing: 0 (0.0%)\n",
            "> 75, Missing: 1 (0.1%)\n",
            "> 76, Missing: 0 (0.0%)\n",
            "> 77, Missing: 0 (0.0%)\n",
            "> 78, Missing: 0 (0.0%)\n"
          ]
        }
      ]
    },
    {
      "cell_type": "code",
      "metadata": {
        "id": "dAq7w5Qrzz59"
      },
      "source": [
        "from sklearn.impute import KNNImputer"
      ],
      "execution_count": null,
      "outputs": []
    },
    {
      "cell_type": "code",
      "metadata": {
        "colab": {
          "base_uri": "https://localhost:8080/"
        },
        "id": "4YWCX85B1RU6",
        "outputId": "e5527ba5-f307-4dad-c819-db677c3e645b"
      },
      "source": [
        "imputer = KNNImputer(n_neighbors=5, weights='uniform', metric='nan_euclidean')\n",
        "imputer.fit(X_train)\n",
        "Xtrain_trans = imputer.transform(X_train)\n",
        "pd.DataFrame(Xtrain_trans).isna().sum().sum()"
      ],
      "execution_count": null,
      "outputs": [
        {
          "output_type": "execute_result",
          "data": {
            "text/plain": [
              "0"
            ]
          },
          "metadata": {},
          "execution_count": 12
        }
      ]
    },
    {
      "cell_type": "code",
      "metadata": {
        "colab": {
          "base_uri": "https://localhost:8080/"
        },
        "id": "s1OT-Hcb2GmG",
        "outputId": "fd4bc68e-2f01-458c-f87d-648136553106"
      },
      "source": [
        "imputer = KNNImputer(n_neighbors=5, weights='uniform', metric='nan_euclidean')\n",
        "imputer.fit(X_test)\n",
        "Xtest_trans = imputer.transform(X_test)\n",
        "pd.DataFrame(Xtest_trans).isna().sum().sum()"
      ],
      "execution_count": null,
      "outputs": [
        {
          "output_type": "execute_result",
          "data": {
            "text/plain": [
              "0"
            ]
          },
          "metadata": {},
          "execution_count": 13
        }
      ]
    },
    {
      "cell_type": "markdown",
      "metadata": {
        "id": "1ZgyQd9U4rjR"
      },
      "source": [
        "pair plot just takes too long i did a heatmap from keggle"
      ]
    },
    {
      "cell_type": "code",
      "metadata": {
        "colab": {
          "base_uri": "https://localhost:8080/",
          "height": 605
        },
        "id": "WpFKQ-Mi2S81",
        "outputId": "55805f06-165b-47be-bad1-0f01719c553c"
      },
      "source": [
        "X_train = xtots.iloc[:dftr.shape[0],:]\n",
        "X_test = xtots.iloc[dfte.shape[0]:,:]\n",
        "\n",
        "# Compute the correlation matrix\n",
        "corr = X_train.corr()\n",
        "\n",
        "# Set up the matplotlib figure\n",
        "f, ax = plt.subplots(figsize=(11, 9))\n",
        "\n",
        "# Generate a custom diverging colormap\n",
        "cmap = sns.diverging_palette(220, 10, as_cmap=True)\n",
        "\n",
        "# Draw the heatmap with the mask and correct aspect ratio\n",
        "sns.heatmap(corr, cmap=cmap, vmax=.3, center=0,\n",
        "            square=True, linewidths=.5, cbar_kws={\"shrink\": .5})\n",
        "\n",
        "plt.show()"
      ],
      "execution_count": null,
      "outputs": [
        {
          "output_type": "display_data",
          "data": {
            "image/png": "[encoded data removed]",
            "text/plain": [
              "<Figure size 792x648 with 2 Axes>"
            ]
          },
          "metadata": {
            "needs_background": "light"
          }
        }
      ]
    },
    {
      "cell_type": "code",
      "metadata": {
        "colab": {
          "base_uri": "https://localhost:8080/",
          "height": 344
        },
        "id": "K9Z_FlbL4pox",
        "outputId": "5bd40ba2-c5e0-4e7b-cd78-d7c57c43d386"
      },
      "source": [
        "ax = sns.distplot(y_train)\n",
        "plt.show()"
      ],
      "execution_count": null,
      "outputs": [
        {
          "output_type": "stream",
          "name": "stderr",
          "text": [
            "/usr/local/lib/python3.7/dist-packages/seaborn/distributions.py:2619: FutureWarning: `distplot` is a deprecated function and will be removed in a future version. Please adapt your code to use either `displot` (a figure-level function with similar flexibility) or `histplot` (an axes-level function for histograms).\n",
            "  warnings.warn(msg, FutureWarning)\n"
          ]
        },
        {
          "output_type": "display_data",
          "data": {
            "image/png": "[encoded data removed]",
            "text/plain": [
              "<Figure size 432x288 with 1 Axes>"
            ]
          },
          "metadata": {
            "needs_background": "light"
          }
        }
      ]
    },
    {
      "cell_type": "markdown",
      "metadata": {
        "id": "vsCeZfJ66Sxo"
      },
      "source": [
        "add a new feature **total sqfootage**"
      ]
    },
    {
      "cell_type": "code",
      "metadata": {
        "colab": {
          "base_uri": "https://localhost:8080/"
        },
        "id": "koS7qrIg5lu7",
        "outputId": "837a05f6-8b68-4fc4-c59f-1c6aef44ce66"
      },
      "source": [
        "X_train['TotalSF'] = X_train['TotalBsmtSF'] + X_train['1stFlrSF'] + X_train['2ndFlrSF']\n",
        "X_test['TotalSF'] = X_test['TotalBsmtSF'] + X_test['1stFlrSF'] + X_test['2ndFlrSF']"
      ],
      "execution_count": null,
      "outputs": [
        {
          "output_type": "stream",
          "name": "stderr",
          "text": [
            "/usr/local/lib/python3.7/dist-packages/ipykernel_launcher.py:1: SettingWithCopyWarning: \n",
            "A value is trying to be set on a copy of a slice from a DataFrame.\n",
            "Try using .loc[row_indexer,col_indexer] = value instead\n",
            "\n",
            "See the caveats in the documentation: https://pandas.pydata.org/pandas-docs/stable/user_guide/indexing.html#returning-a-view-versus-a-copy\n",
            "  \"\"\"Entry point for launching an IPython kernel.\n",
            "/usr/local/lib/python3.7/dist-packages/ipykernel_launcher.py:2: SettingWithCopyWarning: \n",
            "A value is trying to be set on a copy of a slice from a DataFrame.\n",
            "Try using .loc[row_indexer,col_indexer] = value instead\n",
            "\n",
            "See the caveats in the documentation: https://pandas.pydata.org/pandas-docs/stable/user_guide/indexing.html#returning-a-view-versus-a-copy\n",
            "  \n"
          ]
        }
      ]
    },
    {
      "cell_type": "code",
      "metadata": {
        "id": "wfyj6mCm7BmJ"
      },
      "source": [
        "xtots['TotalSF'] = xtots['TotalBsmtSF'] + xtots['1stFlrSF'] + xtots['2ndFlrSF']\n"
      ],
      "execution_count": null,
      "outputs": []
    },
    {
      "cell_type": "markdown",
      "metadata": {
        "id": "OReVZNnMYpvd"
      },
      "source": [
        "SVR"
      ]
    },
    {
      "cell_type": "code",
      "metadata": {
        "colab": {
          "base_uri": "https://localhost:8080/"
        },
        "id": "1DXxuY1IU7sh",
        "outputId": "1cf13bbb-b77c-4bb3-99e5-3f9c050eaba9"
      },
      "source": [
        "from sklearn.svm import SVR\n",
        "from sklearn.model_selection import cross_val_score\n",
        "SVRmodel =  SVR(kernel='rbf')\n",
        "scores = cross_val_score(SVRmodel,X_train,y_train, cv=5, scoring='neg_mean_squared_error') \n",
        "scores.mean()"
      ],
      "execution_count": null,
      "outputs": [
        {
          "output_type": "execute_result",
          "data": {
            "text/plain": [
              "-6621824439.396506"
            ]
          },
          "metadata": {},
          "execution_count": 36
        }
      ]
    },
    {
      "cell_type": "code",
      "metadata": {
        "colab": {
          "base_uri": "https://localhost:8080/"
        },
        "id": "6T_i7hQ_Y-Q1",
        "outputId": "7c30109c-3722-4fe5-a759-bbf102958913"
      },
      "source": [
        "from sklearn.svm import SVR\n",
        "from sklearn.model_selection import cross_val_score\n",
        "SVRmodel =  SVR(kernel='rbf')\n",
        "scores = cross_val_score(SVRmodel,X_train,y_train, cv=5) \n",
        "scores.mean()"
      ],
      "execution_count": null,
      "outputs": [
        {
          "output_type": "execute_result",
          "data": {
            "text/plain": [
              "-0.0514290117776464"
            ]
          },
          "metadata": {},
          "execution_count": 42
        }
      ]
    },
    {
      "cell_type": "code",
      "metadata": {
        "colab": {
          "base_uri": "https://localhost:8080/"
        },
        "id": "bkH9432acmSr",
        "outputId": "cc4bca60-6040-4e05-f8d3-6ddc70259d34"
      },
      "source": [
        "from sklearn.svm import SVR\n",
        "from sklearn.model_selection import cross_val_score\n",
        "SVRmodel =  SVR(kernel='rbf')\n",
        "scores = cross_val_score(SVRmodel,X_train,y_train, cv=5,scoring='neg_root_mean_squared_error') \n",
        "scores.mean()"
      ],
      "execution_count": null,
      "outputs": [
        {
          "output_type": "execute_result",
          "data": {
            "text/plain": [
              "-81141.55135412482"
            ]
          },
          "metadata": {},
          "execution_count": 46
        }
      ]
    },
    {
      "cell_type": "code",
      "metadata": {
        "id": "YafQ_5qxeAVb"
      },
      "source": [
        "from sklearn import linear_model"
      ],
      "execution_count": null,
      "outputs": []
    },
    {
      "cell_type": "code",
      "metadata": {
        "colab": {
          "base_uri": "https://localhost:8080/"
        },
        "id": "QgIn49-cekCx",
        "outputId": "10a0e87c-7108-4a0f-c797-3347a51a1526"
      },
      "source": [
        "reg = linear_model.LinearRegression()\n",
        "scores = cross_val_score(reg,X_train,y_train, cv=5, scoring='neg_mean_squared_error') \n",
        "scores.mean()"
      ],
      "execution_count": null,
      "outputs": [
        {
          "output_type": "execute_result",
          "data": {
            "text/plain": [
              "-1271613176.4706078"
            ]
          },
          "metadata": {},
          "execution_count": 48
        }
      ]
    },
    {
      "cell_type": "code",
      "metadata": {
        "colab": {
          "base_uri": "https://localhost:8080/"
        },
        "id": "T449H5d9ew3x",
        "outputId": "90877139-4854-475a-cb03-4f7ebd1cb2c9"
      },
      "source": [
        "reg = linear_model.LinearRegression()\n",
        "scores = cross_val_score(reg,X_train,y_train, cv=5) \n",
        "scores.mean()"
      ],
      "execution_count": null,
      "outputs": [
        {
          "output_type": "execute_result",
          "data": {
            "text/plain": [
              "0.8009783726995534"
            ]
          },
          "metadata": {},
          "execution_count": 49
        }
      ]
    },
    {
      "cell_type": "code",
      "metadata": {
        "colab": {
          "base_uri": "https://localhost:8080/"
        },
        "id": "dwk1CJNOe0tJ",
        "outputId": "1533a0bc-3e70-4a35-8114-e4bbb7f7766a"
      },
      "source": [
        "reg = linear_model.LinearRegression()\n",
        "scores = cross_val_score(reg,X_train,y_train, cv=5, scoring='neg_root_mean_squared_error') \n",
        "scores.mean()"
      ],
      "execution_count": null,
      "outputs": [
        {
          "output_type": "execute_result",
          "data": {
            "text/plain": [
              "-34821.820776683555"
            ]
          },
          "metadata": {},
          "execution_count": 50
        }
      ]
    },
    {
      "cell_type": "code",
      "metadata": {
        "colab": {
          "base_uri": "https://localhost:8080/"
        },
        "id": "XQQxrfwWf0P7",
        "outputId": "74333802-1a00-4580-d292-bf8a3077bed0"
      },
      "source": [
        "import xgboost as xgb\n",
        "from sklearn.model_selection import GridSearchCV\n",
        "xgb_model = xgb.XGBRegressor()\n",
        "reg_xgb = GridSearchCV(xgb_model,\n",
        "                   {'max_depth': [3,7],\n",
        "                    'n_estimators': [50,100,200]}, verbose=1)\n",
        "reg_xgb.fit(X_train, y_train)\n",
        "print(reg_xgb.best_score_)\n",
        "print(reg_xgb.best_params_)"
      ],
      "execution_count": null,
      "outputs": [
        {
          "output_type": "stream",
          "name": "stdout",
          "text": [
            "Fitting 5 folds for each of 6 candidates, totalling 30 fits\n",
            "[15:52:53] WARNING: /workspace/src/objective/regression_obj.cu:152: reg:linear is now deprecated in favor of reg:squarederror.\n",
            "[15:52:53] WARNING: /workspace/src/objective/regression_obj.cu:152: reg:linear is now deprecated in favor of reg:squarederror.\n"
          ]
        },
        {
          "output_type": "stream",
          "name": "stderr",
          "text": [
            "[Parallel(n_jobs=1)]: Using backend SequentialBackend with 1 concurrent workers.\n"
          ]
        },
        {
          "output_type": "stream",
          "name": "stdout",
          "text": [
            "[15:52:54] WARNING: /workspace/src/objective/regression_obj.cu:152: reg:linear is now deprecated in favor of reg:squarederror.\n",
            "[15:52:54] WARNING: /workspace/src/objective/regression_obj.cu:152: reg:linear is now deprecated in favor of reg:squarederror.\n",
            "[15:52:54] WARNING: /workspace/src/objective/regression_obj.cu:152: reg:linear is now deprecated in favor of reg:squarederror.\n",
            "[15:52:54] WARNING: /workspace/src/objective/regression_obj.cu:152: reg:linear is now deprecated in favor of reg:squarederror.\n",
            "[15:52:54] WARNING: /workspace/src/objective/regression_obj.cu:152: reg:linear is now deprecated in favor of reg:squarederror.\n",
            "[15:52:55] WARNING: /workspace/src/objective/regression_obj.cu:152: reg:linear is now deprecated in favor of reg:squarederror.\n",
            "[15:52:55] WARNING: /workspace/src/objective/regression_obj.cu:152: reg:linear is now deprecated in favor of reg:squarederror.\n",
            "[15:52:55] WARNING: /workspace/src/objective/regression_obj.cu:152: reg:linear is now deprecated in favor of reg:squarederror.\n",
            "[15:52:55] WARNING: /workspace/src/objective/regression_obj.cu:152: reg:linear is now deprecated in favor of reg:squarederror.\n",
            "[15:52:56] WARNING: /workspace/src/objective/regression_obj.cu:152: reg:linear is now deprecated in favor of reg:squarederror.\n",
            "[15:52:57] WARNING: /workspace/src/objective/regression_obj.cu:152: reg:linear is now deprecated in favor of reg:squarederror.\n",
            "[15:52:57] WARNING: /workspace/src/objective/regression_obj.cu:152: reg:linear is now deprecated in favor of reg:squarederror.\n",
            "[15:52:58] WARNING: /workspace/src/objective/regression_obj.cu:152: reg:linear is now deprecated in favor of reg:squarederror.\n",
            "[15:52:58] WARNING: /workspace/src/objective/regression_obj.cu:152: reg:linear is now deprecated in favor of reg:squarederror.\n",
            "[15:52:59] WARNING: /workspace/src/objective/regression_obj.cu:152: reg:linear is now deprecated in favor of reg:squarederror.\n",
            "[15:52:59] WARNING: /workspace/src/objective/regression_obj.cu:152: reg:linear is now deprecated in favor of reg:squarederror.\n",
            "[15:52:59] WARNING: /workspace/src/objective/regression_obj.cu:152: reg:linear is now deprecated in favor of reg:squarederror.\n",
            "[15:52:59] WARNING: /workspace/src/objective/regression_obj.cu:152: reg:linear is now deprecated in favor of reg:squarederror.\n",
            "[15:53:00] WARNING: /workspace/src/objective/regression_obj.cu:152: reg:linear is now deprecated in favor of reg:squarederror.\n",
            "[15:53:00] WARNING: /workspace/src/objective/regression_obj.cu:152: reg:linear is now deprecated in favor of reg:squarederror.\n",
            "[15:53:01] WARNING: /workspace/src/objective/regression_obj.cu:152: reg:linear is now deprecated in favor of reg:squarederror.\n",
            "[15:53:02] WARNING: /workspace/src/objective/regression_obj.cu:152: reg:linear is now deprecated in favor of reg:squarederror.\n",
            "[15:53:02] WARNING: /workspace/src/objective/regression_obj.cu:152: reg:linear is now deprecated in favor of reg:squarederror.\n",
            "[15:53:03] WARNING: /workspace/src/objective/regression_obj.cu:152: reg:linear is now deprecated in favor of reg:squarederror.\n",
            "[15:53:04] WARNING: /workspace/src/objective/regression_obj.cu:152: reg:linear is now deprecated in favor of reg:squarederror.\n",
            "[15:53:05] WARNING: /workspace/src/objective/regression_obj.cu:152: reg:linear is now deprecated in favor of reg:squarederror.\n",
            "[15:53:07] WARNING: /workspace/src/objective/regression_obj.cu:152: reg:linear is now deprecated in favor of reg:squarederror.\n",
            "[15:53:08] WARNING: /workspace/src/objective/regression_obj.cu:152: reg:linear is now deprecated in favor of reg:squarederror.\n"
          ]
        },
        {
          "output_type": "stream",
          "name": "stderr",
          "text": [
            "[Parallel(n_jobs=1)]: Done  30 out of  30 | elapsed:   15.9s finished\n"
          ]
        },
        {
          "output_type": "stream",
          "name": "stdout",
          "text": [
            "[15:53:09] WARNING: /workspace/src/objective/regression_obj.cu:152: reg:linear is now deprecated in favor of reg:squarederror.\n",
            "0.8947800953435412\n",
            "{'max_depth': 3, 'n_estimators': 200}\n"
          ]
        }
      ]
    },
    {
      "cell_type": "code",
      "metadata": {
        "id": "s2B7a6Vzgf2R"
      },
      "source": [
        "from sklearn.linear_model import SGDRegressor\n"
      ],
      "execution_count": null,
      "outputs": []
    },
    {
      "cell_type": "code",
      "metadata": {
        "colab": {
          "base_uri": "https://localhost:8080/"
        },
        "id": "eb7Pm30Igsp5",
        "outputId": "fa349999-4dd8-4d36-ce9b-90d5eb7de39c"
      },
      "source": [
        "model = SGDRegressor()\n",
        "scores = cross_val_score(model,X_train,y_train, cv=5, scoring='neg_mean_squared_error') \n",
        "scores.mean()"
      ],
      "execution_count": null,
      "outputs": [
        {
          "output_type": "execute_result",
          "data": {
            "text/plain": [
              "-1.1212931445930033e+34"
            ]
          },
          "metadata": {},
          "execution_count": 56
        }
      ]
    },
    {
      "cell_type": "code",
      "metadata": {
        "colab": {
          "base_uri": "https://localhost:8080/"
        },
        "id": "vVdbyIESg5lA",
        "outputId": "1d48a55f-d981-4f84-ae5f-dde78ae6db6b"
      },
      "source": [
        "model = SGDRegressor()\n",
        "scores = cross_val_score(model,X_train,y_train, cv=5, scoring='neg_root_mean_squared_error') \n",
        "scores.mean()"
      ],
      "execution_count": null,
      "outputs": [
        {
          "output_type": "execute_result",
          "data": {
            "text/plain": [
              "-1.4165841096062502e+17"
            ]
          },
          "metadata": {},
          "execution_count": 57
        }
      ]
    },
    {
      "cell_type": "code",
      "metadata": {
        "colab": {
          "base_uri": "https://localhost:8080/"
        },
        "id": "xDFvzvH0hBuw",
        "outputId": "6f6d7a68-2a49-46fc-ccfd-f8b673106f9b"
      },
      "source": [
        "model = SGDRegressor()\n",
        "scores = cross_val_score(model,X_train,y_train, cv=5) \n",
        "scores.mean()"
      ],
      "execution_count": null,
      "outputs": [
        {
          "output_type": "execute_result",
          "data": {
            "text/plain": [
              "-2.575041520587263e+24"
            ]
          },
          "metadata": {},
          "execution_count": 58
        }
      ]
    },
    {
      "cell_type": "code",
      "metadata": {
        "colab": {
          "base_uri": "https://localhost:8080/"
        },
        "id": "sr4Jn_vCc7Rq",
        "outputId": "3ae993c4-3941-4bc0-e9ae-66b159ee7f83"
      },
      "source": [
        "import sklearn\n",
        "sorted(sklearn.metrics.SCORERS.keys())"
      ],
      "execution_count": null,
      "outputs": [
        {
          "output_type": "execute_result",
          "data": {
            "text/plain": [
              "['accuracy',\n",
              " 'adjusted_mutual_info_score',\n",
              " 'adjusted_rand_score',\n",
              " 'average_precision',\n",
              " 'balanced_accuracy',\n",
              " 'completeness_score',\n",
              " 'explained_variance',\n",
              " 'f1',\n",
              " 'f1_macro',\n",
              " 'f1_micro',\n",
              " 'f1_samples',\n",
              " 'f1_weighted',\n",
              " 'fowlkes_mallows_score',\n",
              " 'homogeneity_score',\n",
              " 'jaccard',\n",
              " 'jaccard_macro',\n",
              " 'jaccard_micro',\n",
              " 'jaccard_samples',\n",
              " 'jaccard_weighted',\n",
              " 'max_error',\n",
              " 'mutual_info_score',\n",
              " 'neg_brier_score',\n",
              " 'neg_log_loss',\n",
              " 'neg_mean_absolute_error',\n",
              " 'neg_mean_gamma_deviance',\n",
              " 'neg_mean_poisson_deviance',\n",
              " 'neg_mean_squared_error',\n",
              " 'neg_mean_squared_log_error',\n",
              " 'neg_median_absolute_error',\n",
              " 'neg_root_mean_squared_error',\n",
              " 'normalized_mutual_info_score',\n",
              " 'precision',\n",
              " 'precision_macro',\n",
              " 'precision_micro',\n",
              " 'precision_samples',\n",
              " 'precision_weighted',\n",
              " 'r2',\n",
              " 'recall',\n",
              " 'recall_macro',\n",
              " 'recall_micro',\n",
              " 'recall_samples',\n",
              " 'recall_weighted',\n",
              " 'roc_auc',\n",
              " 'roc_auc_ovo',\n",
              " 'roc_auc_ovo_weighted',\n",
              " 'roc_auc_ovr',\n",
              " 'roc_auc_ovr_weighted',\n",
              " 'v_measure_score']"
            ]
          },
          "metadata": {},
          "execution_count": 40
        }
      ]
    },
    {
      "cell_type": "code",
      "metadata": {
        "colab": {
          "base_uri": "https://localhost:8080/",
          "height": 276
        },
        "id": "BNx4FVWdhaMA",
        "outputId": "03c48f58-39cd-4c8c-e024-b2b4a81c8077"
      },
      "source": [
        "from sklearn.metrics import mean_squared_error\n",
        "from sklearn.model_selection import train_test_split\n",
        "def draw_curve(model , x , y):\n",
        "  x_train , x_val , y_train , y_val = train_test_split(x , y , test_size = 0.2)\n",
        "  train_errors = []\n",
        "  val_errors =[]\n",
        "  for m in range(1 , len(x_train)):\n",
        "    model.fit(x_train[:m] , y_train[:m])\n",
        "    y_train_prd = model.predict(x_train[:m])\n",
        "    y_val_prd = model.predict(x_val)\n",
        "\n",
        "    train_errors.append(mean_squared_error(y_train[:m] , y_train_prd))\n",
        "    val_errors.append(mean_squared_error(y_val , y_val_prd))\n",
        "  plt.plot(train_errors , 'r-+' , label = 'train error')\n",
        "  plt.plot(val_errors , 'b-' , label = 'val error')\n",
        "  plt.ylabel('MSE')\n",
        "  plt.legend()\n",
        "  \n",
        "draw_curve(SVRmodel , X_train , y_train)"
      ],
      "execution_count": null,
      "outputs": [
        {
          "output_type": "display_data",
          "data": {
            "image/png": "[encoded data removed]",
            "text/plain": [
              "<Figure size 432x288 with 1 Axes>"
            ]
          },
          "metadata": {
            "needs_background": "light"
          }
        }
      ]
    },
    {
      "cell_type": "code",
      "metadata": {
        "colab": {
          "base_uri": "https://localhost:8080/"
        },
        "id": "7x3xYJ8RjAIo",
        "outputId": "d26f6293-0743-4ac6-bfce-f7d6bf827e09"
      },
      "source": [
        "from sklearn.preprocessing import PolynomialFeatures\n",
        "poly_f = PolynomialFeatures(degree=3 , include_bias = True)\n",
        "x_poly2 = poly_f.fit_transform(X_train)\n",
        "\n",
        "from sklearn.linear_model import LinearRegression\n",
        "reg =LinearRegression()\n",
        "reg.fit(x_poly2 , y_train)"
      ],
      "execution_count": null,
      "outputs": [
        {
          "output_type": "execute_result",
          "data": {
            "text/plain": [
              "LinearRegression(copy_X=True, fit_intercept=True, n_jobs=None, normalize=False)"
            ]
          },
          "metadata": {},
          "execution_count": 65
        }
      ]
    },
    {
      "cell_type": "code",
      "metadata": {
        "colab": {
          "base_uri": "https://localhost:8080/",
          "height": 265
        },
        "id": "lj9VTdnZj18_",
        "outputId": "41057e09-3fc5-4d37-d789-ddd1cbd1bdce"
      },
      "source": [
        "plt.plot(X_train , y_train , 'o')\n",
        "plt.plot(X_train , reg.predict(x_poly2)  , 'o' ,  color = 'red')\n",
        "plt.show()"
      ],
      "execution_count": null,
      "outputs": [
        {
          "output_type": "display_data",
          "data": {
            "image/png": "[encoded data removed]",
            "text/plain": [
              "<Figure size 432x288 with 1 Axes>"
            ]
          },
          "metadata": {
            "needs_background": "light"
          }
        }
      ]
    }
  ]
}